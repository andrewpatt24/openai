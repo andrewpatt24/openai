{
 "cells": [
  {
   "cell_type": "markdown",
   "metadata": {},
   "source": [
    "# FrozenLake-v0"
   ]
  },
  {
   "cell_type": "code",
   "execution_count": 1,
   "metadata": {
    "collapsed": true
   },
   "outputs": [],
   "source": [
    "import numpy as np\n",
    "import gym\n",
    "from api_key import api_key"
   ]
  },
  {
   "cell_type": "markdown",
   "metadata": {},
   "source": [
    "Walking through and understanding code of : https://medium.com/emergent-future/simple-reinforcement-learning-with-tensorflow-part-0-q-learning-with-tables-and-neural-networks-d195264329d0#.7cwz7def1"
   ]
  },
  {
   "cell_type": "code",
   "execution_count": 51,
   "metadata": {
    "collapsed": false
   },
   "outputs": [
    {
     "name": "stderr",
     "output_type": "stream",
     "text": [
      "[2016-12-19 23:12:53,908] Making new env: FrozenLake-v0\n"
     ]
    },
    {
     "name": "stdout",
     "output_type": "stream",
     "text": [
      "\u001b[41mS\u001b[0mFFF\n",
      "FHFH\n",
      "FFFH\n",
      "HFFG\n",
      "\n"
     ]
    },
    {
     "data": {
      "text/plain": [
       "<ipykernel.iostream.OutStream at 0x10e948f10>"
      ]
     },
     "execution_count": 51,
     "metadata": {},
     "output_type": "execute_result"
    }
   ],
   "source": [
    "env = gym.make('FrozenLake-v0')\n",
    "obs = env.reset()\n",
    "obs\n",
    "\n",
    "env.render()"
   ]
  },
  {
   "cell_type": "markdown",
   "metadata": {},
   "source": [
    "## Completely random - how many "
   ]
  },
  {
   "cell_type": "code",
   "execution_count": 3,
   "metadata": {
    "collapsed": false
   },
   "outputs": [
    {
     "name": "stdout",
     "output_type": "stream",
     "text": [
      "Final reward:  0.013\n"
     ]
    }
   ],
   "source": [
    "reward_list = []\n",
    "\n",
    "for a in range(10000):\n",
    "    curr_state = env.reset()\n",
    "    for t in range(100):\n",
    "\n",
    "        ## Take a random action\n",
    "        action = env.action_space.sample()\n",
    "\n",
    "        ## take steps\n",
    "        new_state, reward, done, info = env.step(action)\n",
    "        \n",
    "        if done:\n",
    "            reward_list.append(reward)\n",
    "            break\n",
    "        \n",
    "        # current step for next iteration\n",
    "        curr_state = new_state\n",
    "    \n",
    "print 'Final reward: ', sum(reward_list)/len(reward_list)"
   ]
  },
  {
   "cell_type": "markdown",
   "metadata": {},
   "source": [
    "## Using Q-table learning"
   ]
  },
  {
   "cell_type": "markdown",
   "metadata": {},
   "source": [
    "$$ {\\displaystyle Q(s_{t},a_{t})\\leftarrow \\underbrace {Q(s_{t},a_{t})} _{\\rm {old~value}}+\\underbrace {\\alpha } _{\\rm {learning~rate}}\\cdot \\left(\\overbrace {\\underbrace {r_{t+1}} _{\\rm {reward}}+\\underbrace {\\gamma } _{\\rm {discount~factor}}\\cdot \\underbrace {\\max _{a}Q(s_{t+1},a)} _{\\rm {estimate~of~optimal~future~value}}} ^{\\rm {learned~value}}-\\underbrace {Q(s_{t},a_{t})} _{\\rm {old~value}}\\right)} $$"
   ]
  },
  {
   "cell_type": "code",
   "execution_count": 111,
   "metadata": {
    "collapsed": false
   },
   "outputs": [],
   "source": [
    "##Formalise the functions for each update and next action\n",
    "def update_q(q,curr_state,new_state,action,reward,learning_rate,discount_factor):\n",
    "    \n",
    "    learned_value = reward + discount_factor*np.max(q[new_state,:])\n",
    "    #q[curr_state,action] = q[curr_state,action] + learning_rate*(learned_value-q[curr_state,action])\n",
    "    \n",
    "    q[curr_state,action] = q[curr_state,action] + learning_rate*(learned_value - q[curr_state,action])\n",
    "\n",
    "    return q\n",
    "\n",
    "def select_action(q,curr_state,rand_scale):\n",
    "    return np.argmax(q[curr_state,:] + np.random.randn(1,env.action_space.n)*rand_scale)"
   ]
  },
  {
   "cell_type": "code",
   "execution_count": 112,
   "metadata": {
    "collapsed": false
   },
   "outputs": [
    {
     "name": "stdout",
     "output_type": "stream",
     "text": [
      "Final reward:  0.759324569841\n"
     ]
    }
   ],
   "source": [
    "#env.monitor.start('/tmp/FrozenLake-v0',force=True)\n",
    "\n",
    "Q = np.zeros([env.observation_space.n,env.action_space.n])\n",
    "\n",
    "discount_factor = 0.99\n",
    "learning_rate = 0.8\n",
    "\n",
    "reward_list = []\n",
    "\n",
    "episodes = 10000\n",
    "\n",
    "for a in range(episodes):\n",
    "    curr_state = env.reset()\n",
    "    full_reward = 0\n",
    "    for t in range(100):\n",
    "\n",
    "        ## Take a random action\n",
    "        rand_scale = (1./(a+1))\n",
    "        action = select_action(Q,curr_state,rand_scale)\n",
    "        \n",
    "        ## take steps\n",
    "        new_state, reward, done, info = env.step(action)\n",
    "        \n",
    "        ##Update Q based on steps\n",
    "        full_reward += reward\n",
    "        #learning_rate = 1.-(1./(a+1))\n",
    "        Q = update_q(Q,curr_state,new_state,action,reward,learning_rate,discount_factor)\n",
    "        \n",
    "        if done:\n",
    "            reward_list.append(full_reward)\n",
    "            break\n",
    "        \n",
    "        # current step for next iteration\n",
    "        curr_state = new_state\n",
    "    \n",
    "print 'Final reward: ', sum(reward_list)/len(reward_list)\n",
    "\n",
    "#env.monitor.close()\n",
    "#gym.upload('/tmp/FrozenLake-v0',api_key=api_key)"
   ]
  }
 ],
 "metadata": {
  "kernelspec": {
   "display_name": "Python 2",
   "language": "python",
   "name": "python2"
  },
  "language_info": {
   "codemirror_mode": {
    "name": "ipython",
    "version": 2
   },
   "file_extension": ".py",
   "mimetype": "text/x-python",
   "name": "python",
   "nbconvert_exporter": "python",
   "pygments_lexer": "ipython2",
   "version": "2.7.10"
  }
 },
 "nbformat": 4,
 "nbformat_minor": 2
}
